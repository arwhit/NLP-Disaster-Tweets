{
  "nbformat": 4,
  "nbformat_minor": 0,
  "metadata": {
    "colab": {
      "provenance": [],
      "gpuType": "T4"
    },
    "kernelspec": {
      "name": "python3",
      "display_name": "Python 3"
    },
    "language_info": {
      "name": "python"
    },
    "accelerator": "GPU"
  },
  "cells": [
    {
      "cell_type": "markdown",
      "source": [
        "#NLP with Disater Tweets Kaggle Mini-Project\n",
        "\n",
        "This project explores building a Recurrent Neural Network (RNN) for Natural Language Processing (NLP) of tweets with the goal of determining if a tweet is about a natural disaster. At the time of writing, this project is the week 4 assignment for \"DTSA 5511: Introduction to Deep Learning\".\n",
        "\n",
        " This notebook, datasets, and output files can be accessed from my github repository [here](https://github.com/arwhit/NLP-Disaster-Tweets).\n",
        "\n",
        "You can read more about the kaggle competition [here](https://www.kaggle.com/competitions/nlp-getting-started/overview)."
      ],
      "metadata": {
        "id": "898ht3hWNkAj"
      }
    },
    {
      "cell_type": "code",
      "execution_count": null,
      "metadata": {
        "colab": {
          "base_uri": "https://localhost:8080/"
        },
        "id": "upeCnHD6NZuc",
        "outputId": "8f731165-be29-41b1-c96f-1ebdf666a75f"
      },
      "outputs": [
        {
          "output_type": "stream",
          "name": "stderr",
          "text": [
            "[nltk_data] Downloading package punkt to /root/nltk_data...\n",
            "[nltk_data]   Package punkt is already up-to-date!\n",
            "[nltk_data] Downloading package stopwords to /root/nltk_data...\n",
            "[nltk_data]   Package stopwords is already up-to-date!\n"
          ]
        }
      ],
      "source": [
        "#Import libraries and packages\n",
        "import numpy as np\n",
        "import pandas as pd\n",
        "import matplotlib.pyplot as plt\n",
        "import nltk\n",
        "nltk.download('punkt')\n",
        "nltk.download('stopwords')\n",
        "from nltk.tokenize import word_tokenize\n",
        "from nltk.corpus import stopwords\n",
        "import keras\n",
        "from keras.models import Sequential\n",
        "from keras.layers import TextVectorization, Embedding, LSTM, Dense, Dropout, BatchNormalization, Activation\n",
        "from google.colab import files"
      ]
    },
    {
      "cell_type": "markdown",
      "source": [
        "##Data Description\n",
        "The training dataset contains 7613 observances with 5 columns:\n",
        "  1. id-unique identifier for the tweet\n",
        "  2. keyword- predefined keyword in tweet\n",
        "  3. location- location of tweet\n",
        "  4. text- actual tweet content\n",
        "  5. target- indicates if tweet is about a disaster (1) or something else (0)\n",
        "\n",
        "\n",
        "You can see from the preview below that many of the keywords and locations may be missing. This will be addressed in a later section.\n",
        "\n",
        "The test dataset contains 3263 observances with 4 of the above mentioned columns. The test dataset contains no target label since the test datset predictions will be evalauted against a known label when the output file is submitted to kaggle."
      ],
      "metadata": {
        "id": "BAUfLvn6X-Ui"
      }
    },
    {
      "cell_type": "code",
      "source": [
        "#Import Dataset\n",
        "train_url='https://raw.githubusercontent.com/arwhit/NLP-Disaster-Tweets/main/disaster_tweets_train.csv'\n",
        "test_url='https://raw.githubusercontent.com/arwhit/NLP-Disaster-Tweets/main/disaster_tweets_test.csv'\n",
        "train_df=pd.read_csv(train_url)\n",
        "test_df=pd.read_csv(test_url)\n",
        "\n",
        "train_df.head(5)"
      ],
      "metadata": {
        "colab": {
          "base_uri": "https://localhost:8080/",
          "height": 206
        },
        "id": "hE1qgZNJWB51",
        "outputId": "9306eaf9-b12e-49f2-95e3-8e9d37b0f170"
      },
      "execution_count": null,
      "outputs": [
        {
          "output_type": "execute_result",
          "data": {
            "text/plain": [
              "   id keyword location                                               text  \\\n",
              "0   1     NaN      NaN  Our Deeds are the Reason of this #earthquake M...   \n",
              "1   4     NaN      NaN             Forest fire near La Ronge Sask. Canada   \n",
              "2   5     NaN      NaN  All residents asked to 'shelter in place' are ...   \n",
              "3   6     NaN      NaN  13,000 people receive #wildfires evacuation or...   \n",
              "4   7     NaN      NaN  Just got sent this photo from Ruby #Alaska as ...   \n",
              "\n",
              "   target  \n",
              "0       1  \n",
              "1       1  \n",
              "2       1  \n",
              "3       1  \n",
              "4       1  "
            ],
            "text/html": [
              "\n",
              "\n",
              "  <div id=\"df-763e7dc3-2d0e-40c8-8031-8e35da924313\">\n",
              "    <div class=\"colab-df-container\">\n",
              "      <div>\n",
              "<style scoped>\n",
              "    .dataframe tbody tr th:only-of-type {\n",
              "        vertical-align: middle;\n",
              "    }\n",
              "\n",
              "    .dataframe tbody tr th {\n",
              "        vertical-align: top;\n",
              "    }\n",
              "\n",
              "    .dataframe thead th {\n",
              "        text-align: right;\n",
              "    }\n",
              "</style>\n",
              "<table border=\"1\" class=\"dataframe\">\n",
              "  <thead>\n",
              "    <tr style=\"text-align: right;\">\n",
              "      <th></th>\n",
              "      <th>id</th>\n",
              "      <th>keyword</th>\n",
              "      <th>location</th>\n",
              "      <th>text</th>\n",
              "      <th>target</th>\n",
              "    </tr>\n",
              "  </thead>\n",
              "  <tbody>\n",
              "    <tr>\n",
              "      <th>0</th>\n",
              "      <td>1</td>\n",
              "      <td>NaN</td>\n",
              "      <td>NaN</td>\n",
              "      <td>Our Deeds are the Reason of this #earthquake M...</td>\n",
              "      <td>1</td>\n",
              "    </tr>\n",
              "    <tr>\n",
              "      <th>1</th>\n",
              "      <td>4</td>\n",
              "      <td>NaN</td>\n",
              "      <td>NaN</td>\n",
              "      <td>Forest fire near La Ronge Sask. Canada</td>\n",
              "      <td>1</td>\n",
              "    </tr>\n",
              "    <tr>\n",
              "      <th>2</th>\n",
              "      <td>5</td>\n",
              "      <td>NaN</td>\n",
              "      <td>NaN</td>\n",
              "      <td>All residents asked to 'shelter in place' are ...</td>\n",
              "      <td>1</td>\n",
              "    </tr>\n",
              "    <tr>\n",
              "      <th>3</th>\n",
              "      <td>6</td>\n",
              "      <td>NaN</td>\n",
              "      <td>NaN</td>\n",
              "      <td>13,000 people receive #wildfires evacuation or...</td>\n",
              "      <td>1</td>\n",
              "    </tr>\n",
              "    <tr>\n",
              "      <th>4</th>\n",
              "      <td>7</td>\n",
              "      <td>NaN</td>\n",
              "      <td>NaN</td>\n",
              "      <td>Just got sent this photo from Ruby #Alaska as ...</td>\n",
              "      <td>1</td>\n",
              "    </tr>\n",
              "  </tbody>\n",
              "</table>\n",
              "</div>\n",
              "      <button class=\"colab-df-convert\" onclick=\"convertToInteractive('df-763e7dc3-2d0e-40c8-8031-8e35da924313')\"\n",
              "              title=\"Convert this dataframe to an interactive table.\"\n",
              "              style=\"display:none;\">\n",
              "\n",
              "  <svg xmlns=\"http://www.w3.org/2000/svg\" height=\"24px\"viewBox=\"0 0 24 24\"\n",
              "       width=\"24px\">\n",
              "    <path d=\"M0 0h24v24H0V0z\" fill=\"none\"/>\n",
              "    <path d=\"M18.56 5.44l.94 2.06.94-2.06 2.06-.94-2.06-.94-.94-2.06-.94 2.06-2.06.94zm-11 1L8.5 8.5l.94-2.06 2.06-.94-2.06-.94L8.5 2.5l-.94 2.06-2.06.94zm10 10l.94 2.06.94-2.06 2.06-.94-2.06-.94-.94-2.06-.94 2.06-2.06.94z\"/><path d=\"M17.41 7.96l-1.37-1.37c-.4-.4-.92-.59-1.43-.59-.52 0-1.04.2-1.43.59L10.3 9.45l-7.72 7.72c-.78.78-.78 2.05 0 2.83L4 21.41c.39.39.9.59 1.41.59.51 0 1.02-.2 1.41-.59l7.78-7.78 2.81-2.81c.8-.78.8-2.07 0-2.86zM5.41 20L4 18.59l7.72-7.72 1.47 1.35L5.41 20z\"/>\n",
              "  </svg>\n",
              "      </button>\n",
              "\n",
              "\n",
              "\n",
              "    <div id=\"df-9e73c8e2-bfdd-4bbb-b04c-2ba462551e44\">\n",
              "      <button class=\"colab-df-quickchart\" onclick=\"quickchart('df-9e73c8e2-bfdd-4bbb-b04c-2ba462551e44')\"\n",
              "              title=\"Suggest charts.\"\n",
              "              style=\"display:none;\">\n",
              "\n",
              "<svg xmlns=\"http://www.w3.org/2000/svg\" height=\"24px\"viewBox=\"0 0 24 24\"\n",
              "     width=\"24px\">\n",
              "    <g>\n",
              "        <path d=\"M19 3H5c-1.1 0-2 .9-2 2v14c0 1.1.9 2 2 2h14c1.1 0 2-.9 2-2V5c0-1.1-.9-2-2-2zM9 17H7v-7h2v7zm4 0h-2V7h2v10zm4 0h-2v-4h2v4z\"/>\n",
              "    </g>\n",
              "</svg>\n",
              "      </button>\n",
              "    </div>\n",
              "\n",
              "<style>\n",
              "  .colab-df-quickchart {\n",
              "    background-color: #E8F0FE;\n",
              "    border: none;\n",
              "    border-radius: 50%;\n",
              "    cursor: pointer;\n",
              "    display: none;\n",
              "    fill: #1967D2;\n",
              "    height: 32px;\n",
              "    padding: 0 0 0 0;\n",
              "    width: 32px;\n",
              "  }\n",
              "\n",
              "  .colab-df-quickchart:hover {\n",
              "    background-color: #E2EBFA;\n",
              "    box-shadow: 0px 1px 2px rgba(60, 64, 67, 0.3), 0px 1px 3px 1px rgba(60, 64, 67, 0.15);\n",
              "    fill: #174EA6;\n",
              "  }\n",
              "\n",
              "  [theme=dark] .colab-df-quickchart {\n",
              "    background-color: #3B4455;\n",
              "    fill: #D2E3FC;\n",
              "  }\n",
              "\n",
              "  [theme=dark] .colab-df-quickchart:hover {\n",
              "    background-color: #434B5C;\n",
              "    box-shadow: 0px 1px 3px 1px rgba(0, 0, 0, 0.15);\n",
              "    filter: drop-shadow(0px 1px 2px rgba(0, 0, 0, 0.3));\n",
              "    fill: #FFFFFF;\n",
              "  }\n",
              "</style>\n",
              "\n",
              "    <script>\n",
              "      async function quickchart(key) {\n",
              "        const containerElement = document.querySelector('#' + key);\n",
              "        const charts = await google.colab.kernel.invokeFunction(\n",
              "            'suggestCharts', [key], {});\n",
              "      }\n",
              "    </script>\n",
              "\n",
              "      <script>\n",
              "\n",
              "function displayQuickchartButton(domScope) {\n",
              "  let quickchartButtonEl =\n",
              "    domScope.querySelector('#df-9e73c8e2-bfdd-4bbb-b04c-2ba462551e44 button.colab-df-quickchart');\n",
              "  quickchartButtonEl.style.display =\n",
              "    google.colab.kernel.accessAllowed ? 'block' : 'none';\n",
              "}\n",
              "\n",
              "        displayQuickchartButton(document);\n",
              "      </script>\n",
              "      <style>\n",
              "    .colab-df-container {\n",
              "      display:flex;\n",
              "      flex-wrap:wrap;\n",
              "      gap: 12px;\n",
              "    }\n",
              "\n",
              "    .colab-df-convert {\n",
              "      background-color: #E8F0FE;\n",
              "      border: none;\n",
              "      border-radius: 50%;\n",
              "      cursor: pointer;\n",
              "      display: none;\n",
              "      fill: #1967D2;\n",
              "      height: 32px;\n",
              "      padding: 0 0 0 0;\n",
              "      width: 32px;\n",
              "    }\n",
              "\n",
              "    .colab-df-convert:hover {\n",
              "      background-color: #E2EBFA;\n",
              "      box-shadow: 0px 1px 2px rgba(60, 64, 67, 0.3), 0px 1px 3px 1px rgba(60, 64, 67, 0.15);\n",
              "      fill: #174EA6;\n",
              "    }\n",
              "\n",
              "    [theme=dark] .colab-df-convert {\n",
              "      background-color: #3B4455;\n",
              "      fill: #D2E3FC;\n",
              "    }\n",
              "\n",
              "    [theme=dark] .colab-df-convert:hover {\n",
              "      background-color: #434B5C;\n",
              "      box-shadow: 0px 1px 3px 1px rgba(0, 0, 0, 0.15);\n",
              "      filter: drop-shadow(0px 1px 2px rgba(0, 0, 0, 0.3));\n",
              "      fill: #FFFFFF;\n",
              "    }\n",
              "  </style>\n",
              "\n",
              "      <script>\n",
              "        const buttonEl =\n",
              "          document.querySelector('#df-763e7dc3-2d0e-40c8-8031-8e35da924313 button.colab-df-convert');\n",
              "        buttonEl.style.display =\n",
              "          google.colab.kernel.accessAllowed ? 'block' : 'none';\n",
              "\n",
              "        async function convertToInteractive(key) {\n",
              "          const element = document.querySelector('#df-763e7dc3-2d0e-40c8-8031-8e35da924313');\n",
              "          const dataTable =\n",
              "            await google.colab.kernel.invokeFunction('convertToInteractive',\n",
              "                                                     [key], {});\n",
              "          if (!dataTable) return;\n",
              "\n",
              "          const docLinkHtml = 'Like what you see? Visit the ' +\n",
              "            '<a target=\"_blank\" href=https://colab.research.google.com/notebooks/data_table.ipynb>data table notebook</a>'\n",
              "            + ' to learn more about interactive tables.';\n",
              "          element.innerHTML = '';\n",
              "          dataTable['output_type'] = 'display_data';\n",
              "          await google.colab.output.renderOutput(dataTable, element);\n",
              "          const docLink = document.createElement('div');\n",
              "          docLink.innerHTML = docLinkHtml;\n",
              "          element.appendChild(docLink);\n",
              "        }\n",
              "      </script>\n",
              "    </div>\n",
              "  </div>\n"
            ]
          },
          "metadata": {},
          "execution_count": 2
        }
      ]
    },
    {
      "cell_type": "markdown",
      "source": [
        "##EDA, Data Cleaning, and Preprocessing\n",
        "\n",
        "Let's take a look at the dataset. We can see that there are no missing values in the id, text, or target columns. It is also noted that there are a few missing values in keywords and roughly 1/3 of all location values are missing. We also see that around 4000 observances are not classified as disaster tweets and roughly 3000 observances are about disasters."
      ],
      "metadata": {
        "id": "rPN6LI_9VOjy"
      }
    },
    {
      "cell_type": "code",
      "source": [
        "train_df.info()"
      ],
      "metadata": {
        "colab": {
          "base_uri": "https://localhost:8080/"
        },
        "id": "g_yNXv51VQLe",
        "outputId": "2ebe6daf-c4da-436e-f1d3-bf246c751b46"
      },
      "execution_count": null,
      "outputs": [
        {
          "output_type": "stream",
          "name": "stdout",
          "text": [
            "<class 'pandas.core.frame.DataFrame'>\n",
            "RangeIndex: 7613 entries, 0 to 7612\n",
            "Data columns (total 5 columns):\n",
            " #   Column    Non-Null Count  Dtype \n",
            "---  ------    --------------  ----- \n",
            " 0   id        7613 non-null   int64 \n",
            " 1   keyword   7552 non-null   object\n",
            " 2   location  5080 non-null   object\n",
            " 3   text      7613 non-null   object\n",
            " 4   target    7613 non-null   int64 \n",
            "dtypes: int64(2), object(3)\n",
            "memory usage: 297.5+ KB\n"
          ]
        }
      ]
    },
    {
      "cell_type": "code",
      "source": [
        "x=['No Disaster','Disaster']\n",
        "y=[train_df['target'].value_counts()[0],train_df['target'].value_counts()[1]]\n",
        "plt.bar(x,y)\n",
        "plt.show()"
      ],
      "metadata": {
        "colab": {
          "base_uri": "https://localhost:8080/",
          "height": 430
        },
        "id": "Owi5dAXQjlIp",
        "outputId": "17c0d862-8c68-4445-a7ee-110c3c0b6fe7"
      },
      "execution_count": null,
      "outputs": [
        {
          "output_type": "display_data",
          "data": {
            "text/plain": [
              "<Figure size 640x480 with 1 Axes>"
            ],
            "image/png": "[encoded data removed]"
          },
          "metadata": {}
        }
      ]
    },
    {
      "cell_type": "markdown",
      "source": [
        "While keywords might be redundant for model building, they might be useful to get an idea of what words are prevelant in disaster tweets. If we sort the keywords in decending order, we see that ablaze and accident are the most occuring words."
      ],
      "metadata": {
        "id": "-sOT-WNelZ3Y"
      }
    },
    {
      "cell_type": "code",
      "source": [
        "# Create list of keywords\n",
        "unique_values =train_df[train_df['target'] == 1]['keyword'].unique().tolist()\n",
        "unique_values.pop(0)\n",
        "# Count number of occurances\n",
        "counts =train_df[train_df['target'] == 1]['keyword'].value_counts().tolist()\n",
        "#create the df and sort in decending order\n",
        "word_df=pd.DataFrame({'word':unique_values, 'counts':counts})\n",
        "top_words=word_df.sort_values(by='counts', ascending=False).head(10)\n",
        "top_words"
      ],
      "metadata": {
        "colab": {
          "base_uri": "https://localhost:8080/",
          "height": 363
        },
        "id": "XjbKkf9ZluJx",
        "outputId": "94504cd3-bd07-487b-cea0-7117194a2cce"
      },
      "execution_count": null,
      "outputs": [
        {
          "output_type": "execute_result",
          "data": {
            "text/plain": [
              "                  word  counts\n",
              "0               ablaze      39\n",
              "2  airplane%20accident      39\n",
              "1             accident      39\n",
              "3            ambulance      37\n",
              "5         annihilation      37\n",
              "4          annihilated      37\n",
              "6           apocalypse      32\n",
              "8                 army      32\n",
              "9                arson      32\n",
              "7           armageddon      32"
            ],
            "text/html": [
              "\n",
              "\n",
              "  <div id=\"df-b7210be1-ba11-4891-a4fb-bd13c3dbacfa\">\n",
              "    <div class=\"colab-df-container\">\n",
              "      <div>\n",
              "<style scoped>\n",
              "    .dataframe tbody tr th:only-of-type {\n",
              "        vertical-align: middle;\n",
              "    }\n",
              "\n",
              "    .dataframe tbody tr th {\n",
              "        vertical-align: top;\n",
              "    }\n",
              "\n",
              "    .dataframe thead th {\n",
              "        text-align: right;\n",
              "    }\n",
              "</style>\n",
              "<table border=\"1\" class=\"dataframe\">\n",
              "  <thead>\n",
              "    <tr style=\"text-align: right;\">\n",
              "      <th></th>\n",
              "      <th>word</th>\n",
              "      <th>counts</th>\n",
              "    </tr>\n",
              "  </thead>\n",
              "  <tbody>\n",
              "    <tr>\n",
              "      <th>0</th>\n",
              "      <td>ablaze</td>\n",
              "      <td>39</td>\n",
              "    </tr>\n",
              "    <tr>\n",
              "      <th>2</th>\n",
              "      <td>airplane%20accident</td>\n",
              "      <td>39</td>\n",
              "    </tr>\n",
              "    <tr>\n",
              "      <th>1</th>\n",
              "      <td>accident</td>\n",
              "      <td>39</td>\n",
              "    </tr>\n",
              "    <tr>\n",
              "      <th>3</th>\n",
              "      <td>ambulance</td>\n",
              "      <td>37</td>\n",
              "    </tr>\n",
              "    <tr>\n",
              "      <th>5</th>\n",
              "      <td>annihilation</td>\n",
              "      <td>37</td>\n",
              "    </tr>\n",
              "    <tr>\n",
              "      <th>4</th>\n",
              "      <td>annihilated</td>\n",
              "      <td>37</td>\n",
              "    </tr>\n",
              "    <tr>\n",
              "      <th>6</th>\n",
              "      <td>apocalypse</td>\n",
              "      <td>32</td>\n",
              "    </tr>\n",
              "    <tr>\n",
              "      <th>8</th>\n",
              "      <td>army</td>\n",
              "      <td>32</td>\n",
              "    </tr>\n",
              "    <tr>\n",
              "      <th>9</th>\n",
              "      <td>arson</td>\n",
              "      <td>32</td>\n",
              "    </tr>\n",
              "    <tr>\n",
              "      <th>7</th>\n",
              "      <td>armageddon</td>\n",
              "      <td>32</td>\n",
              "    </tr>\n",
              "  </tbody>\n",
              "</table>\n",
              "</div>\n",
              "      <button class=\"colab-df-convert\" onclick=\"convertToInteractive('df-b7210be1-ba11-4891-a4fb-bd13c3dbacfa')\"\n",
              "              title=\"Convert this dataframe to an interactive table.\"\n",
              "              style=\"display:none;\">\n",
              "\n",
              "  <svg xmlns=\"http://www.w3.org/2000/svg\" height=\"24px\"viewBox=\"0 0 24 24\"\n",
              "       width=\"24px\">\n",
              "    <path d=\"M0 0h24v24H0V0z\" fill=\"none\"/>\n",
              "    <path d=\"M18.56 5.44l.94 2.06.94-2.06 2.06-.94-2.06-.94-.94-2.06-.94 2.06-2.06.94zm-11 1L8.5 8.5l.94-2.06 2.06-.94-2.06-.94L8.5 2.5l-.94 2.06-2.06.94zm10 10l.94 2.06.94-2.06 2.06-.94-2.06-.94-.94-2.06-.94 2.06-2.06.94z\"/><path d=\"M17.41 7.96l-1.37-1.37c-.4-.4-.92-.59-1.43-.59-.52 0-1.04.2-1.43.59L10.3 9.45l-7.72 7.72c-.78.78-.78 2.05 0 2.83L4 21.41c.39.39.9.59 1.41.59.51 0 1.02-.2 1.41-.59l7.78-7.78 2.81-2.81c.8-.78.8-2.07 0-2.86zM5.41 20L4 18.59l7.72-7.72 1.47 1.35L5.41 20z\"/>\n",
              "  </svg>\n",
              "      </button>\n",
              "\n",
              "\n",
              "\n",
              "    <div id=\"df-03fb244c-b18b-4429-b716-e6dd86b4f64c\">\n",
              "      <button class=\"colab-df-quickchart\" onclick=\"quickchart('df-03fb244c-b18b-4429-b716-e6dd86b4f64c')\"\n",
              "              title=\"Suggest charts.\"\n",
              "              style=\"display:none;\">\n",
              "\n",
              "<svg xmlns=\"http://www.w3.org/2000/svg\" height=\"24px\"viewBox=\"0 0 24 24\"\n",
              "     width=\"24px\">\n",
              "    <g>\n",
              "        <path d=\"M19 3H5c-1.1 0-2 .9-2 2v14c0 1.1.9 2 2 2h14c1.1 0 2-.9 2-2V5c0-1.1-.9-2-2-2zM9 17H7v-7h2v7zm4 0h-2V7h2v10zm4 0h-2v-4h2v4z\"/>\n",
              "    </g>\n",
              "</svg>\n",
              "      </button>\n",
              "    </div>\n",
              "\n",
              "<style>\n",
              "  .colab-df-quickchart {\n",
              "    background-color: #E8F0FE;\n",
              "    border: none;\n",
              "    border-radius: 50%;\n",
              "    cursor: pointer;\n",
              "    display: none;\n",
              "    fill: #1967D2;\n",
              "    height: 32px;\n",
              "    padding: 0 0 0 0;\n",
              "    width: 32px;\n",
              "  }\n",
              "\n",
              "  .colab-df-quickchart:hover {\n",
              "    background-color: #E2EBFA;\n",
              "    box-shadow: 0px 1px 2px rgba(60, 64, 67, 0.3), 0px 1px 3px 1px rgba(60, 64, 67, 0.15);\n",
              "    fill: #174EA6;\n",
              "  }\n",
              "\n",
              "  [theme=dark] .colab-df-quickchart {\n",
              "    background-color: #3B4455;\n",
              "    fill: #D2E3FC;\n",
              "  }\n",
              "\n",
              "  [theme=dark] .colab-df-quickchart:hover {\n",
              "    background-color: #434B5C;\n",
              "    box-shadow: 0px 1px 3px 1px rgba(0, 0, 0, 0.15);\n",
              "    filter: drop-shadow(0px 1px 2px rgba(0, 0, 0, 0.3));\n",
              "    fill: #FFFFFF;\n",
              "  }\n",
              "</style>\n",
              "\n",
              "    <script>\n",
              "      async function quickchart(key) {\n",
              "        const containerElement = document.querySelector('#' + key);\n",
              "        const charts = await google.colab.kernel.invokeFunction(\n",
              "            'suggestCharts', [key], {});\n",
              "      }\n",
              "    </script>\n",
              "\n",
              "      <script>\n",
              "\n",
              "function displayQuickchartButton(domScope) {\n",
              "  let quickchartButtonEl =\n",
              "    domScope.querySelector('#df-03fb244c-b18b-4429-b716-e6dd86b4f64c button.colab-df-quickchart');\n",
              "  quickchartButtonEl.style.display =\n",
              "    google.colab.kernel.accessAllowed ? 'block' : 'none';\n",
              "}\n",
              "\n",
              "        displayQuickchartButton(document);\n",
              "      </script>\n",
              "      <style>\n",
              "    .colab-df-container {\n",
              "      display:flex;\n",
              "      flex-wrap:wrap;\n",
              "      gap: 12px;\n",
              "    }\n",
              "\n",
              "    .colab-df-convert {\n",
              "      background-color: #E8F0FE;\n",
              "      border: none;\n",
              "      border-radius: 50%;\n",
              "      cursor: pointer;\n",
              "      display: none;\n",
              "      fill: #1967D2;\n",
              "      height: 32px;\n",
              "      padding: 0 0 0 0;\n",
              "      width: 32px;\n",
              "    }\n",
              "\n",
              "    .colab-df-convert:hover {\n",
              "      background-color: #E2EBFA;\n",
              "      box-shadow: 0px 1px 2px rgba(60, 64, 67, 0.3), 0px 1px 3px 1px rgba(60, 64, 67, 0.15);\n",
              "      fill: #174EA6;\n",
              "    }\n",
              "\n",
              "    [theme=dark] .colab-df-convert {\n",
              "      background-color: #3B4455;\n",
              "      fill: #D2E3FC;\n",
              "    }\n",
              "\n",
              "    [theme=dark] .colab-df-convert:hover {\n",
              "      background-color: #434B5C;\n",
              "      box-shadow: 0px 1px 3px 1px rgba(0, 0, 0, 0.15);\n",
              "      filter: drop-shadow(0px 1px 2px rgba(0, 0, 0, 0.3));\n",
              "      fill: #FFFFFF;\n",
              "    }\n",
              "  </style>\n",
              "\n",
              "      <script>\n",
              "        const buttonEl =\n",
              "          document.querySelector('#df-b7210be1-ba11-4891-a4fb-bd13c3dbacfa button.colab-df-convert');\n",
              "        buttonEl.style.display =\n",
              "          google.colab.kernel.accessAllowed ? 'block' : 'none';\n",
              "\n",
              "        async function convertToInteractive(key) {\n",
              "          const element = document.querySelector('#df-b7210be1-ba11-4891-a4fb-bd13c3dbacfa');\n",
              "          const dataTable =\n",
              "            await google.colab.kernel.invokeFunction('convertToInteractive',\n",
              "                                                     [key], {});\n",
              "          if (!dataTable) return;\n",
              "\n",
              "          const docLinkHtml = 'Like what you see? Visit the ' +\n",
              "            '<a target=\"_blank\" href=https://colab.research.google.com/notebooks/data_table.ipynb>data table notebook</a>'\n",
              "            + ' to learn more about interactive tables.';\n",
              "          element.innerHTML = '';\n",
              "          dataTable['output_type'] = 'display_data';\n",
              "          await google.colab.output.renderOutput(dataTable, element);\n",
              "          const docLink = document.createElement('div');\n",
              "          docLink.innerHTML = docLinkHtml;\n",
              "          element.appendChild(docLink);\n",
              "        }\n",
              "      </script>\n",
              "    </div>\n",
              "  </div>\n"
            ]
          },
          "metadata": {},
          "execution_count": 5
        }
      ]
    },
    {
      "cell_type": "markdown",
      "source": [
        "We need to think about all those missing values as well as the utility of the keyword and location columns.\n",
        "\n",
        "Less than 10% of the keywords are missing, so it could be argued that there are enough values to include them in the model. However, it is unclear how the keywords were determined. The keyword might also be considered redundant since it is simply a word that was extracted from the overall text. If we build a model with multiple layers, we would expect the model to pick up on keywords even if we do not explicitly assign them. For this reason, we will drop the keywords column.\n",
        "\n",
        "Since roughly one third of the location column is missing data and the location of past disasters is not necessarily indicative of future disasters happening in those locations, we will also drop the location column"
      ],
      "metadata": {
        "id": "NxZGMHORmwTP"
      }
    },
    {
      "cell_type": "code",
      "source": [
        "train_df=train_df.drop(['keyword', 'location'], axis=1)\n",
        "test_df=test_df.drop(['keyword', 'location'], axis=1)"
      ],
      "metadata": {
        "id": "0fCwgtUMmu5J"
      },
      "execution_count": null,
      "outputs": []
    },
    {
      "cell_type": "markdown",
      "source": [
        "The text content can easily be vectorized using packages within the Keras library without much preprocessing. However, some preproccesing will be done outside of Keras using NLTK as it has more robust features for removing stopwords and numbers."
      ],
      "metadata": {
        "id": "bBlEFtEehSqg"
      }
    },
    {
      "cell_type": "code",
      "source": [
        "#create cleaner function utlizing NLTK\n",
        "def text_cleaner(tweet):\n",
        "  #make all the words lowercase\n",
        "  tweet=word_tokenize(tweet.lower())\n",
        "  #specify stopwords to omit\n",
        "  stop_words = set(stopwords.words('english'))\n",
        "  #return a list of words that omits stop words, punctuation, and numbers\n",
        "  cleaned_words = [word for word in tweet if word.isalpha() and not word in stop_words]\n",
        "  #combine the indiduals words into a single string\n",
        "  cleaned_tweet=' '.join(cleaned_words)\n",
        "  return cleaned_tweet\n",
        "\n",
        "#clean training dataset\n",
        "for i in range(len(train_df)):\n",
        "  train_df.loc[i, 'text'] = text_cleaner(train_df.loc[i, 'text'])\n",
        "\n",
        "#clean test dataset\n",
        "for i in range(len(test_df)):\n",
        "  test_df.loc[i, 'text'] = text_cleaner(test_df.loc[i, 'text'])"
      ],
      "metadata": {
        "id": "HONrzigFbkp5"
      },
      "execution_count": null,
      "outputs": []
    },
    {
      "cell_type": "code",
      "source": [
        "#print example output\n",
        "train_df['text'][10]"
      ],
      "metadata": {
        "colab": {
          "base_uri": "https://localhost:8080/",
          "height": 35
        },
        "id": "2oTZEefi1Ona",
        "outputId": "6ec2c28d-583d-4273-9298-435e8a4c96a1"
      },
      "execution_count": null,
      "outputs": [
        {
          "output_type": "execute_result",
          "data": {
            "text/plain": [
              "'three people died heat wave far'"
            ],
            "application/vnd.google.colaboratory.intrinsic+json": {
              "type": "string"
            }
          },
          "metadata": {},
          "execution_count": 8
        }
      ]
    },
    {
      "cell_type": "markdown",
      "source": [
        "Lastly, we will convert the tweets and labels into the format needed to pass them into the model. Since we do not know the true labels of the test dataset and submitting the file to kaggle to recieve an accuracy score is somewhat ambiguous, we will also create a validation set from the training dataset so we can better observe/monitor any overfitting that might be happening."
      ],
      "metadata": {
        "id": "Brml-FO04XPG"
      }
    },
    {
      "cell_type": "code",
      "source": [
        "train=train_df.sample(frac=0.8,random_state=5)\n",
        "training_data=np.array(train['text'])\n",
        "training_labels=np.array(train['target'])\n",
        "val=train_df.drop(train.index)\n",
        "validation_data=np.array(val['text'])\n",
        "validation_labels=np.array(val['target'])\n",
        "test_data=np.array(test_df['text'])"
      ],
      "metadata": {
        "id": "QakzcOJ94e5H"
      },
      "execution_count": null,
      "outputs": []
    },
    {
      "cell_type": "markdown",
      "source": [
        "## Model Building and Hyperparemter Tuning\n",
        "Now that we have a better understanding of the dataset and have preprocessed the data, let's construct the models. Hyperparamter tuning will be conducted on the normalization methods. The 3 models are as follows:\n",
        "\n",
        "1. Model 1: LSTM with ADAM and no normalization\n",
        "2. Model 2: LSTM with ADAM and Batch Normalization\n",
        "3. Model 3: LSTM with ADAM and Dropout Normalization\n",
        "\n",
        "\n"
      ],
      "metadata": {
        "id": "-GM28OqOVQ__"
      }
    },
    {
      "cell_type": "code",
      "source": [
        "# Prepare a TextVectorization layer\n",
        "vectorizer = TextVectorization(output_mode=\"int\",max_tokens=5000)\n",
        "vectorizer.adapt(training_data)\n",
        "vectorized_training_data =vectorizer(training_data)\n",
        "vectorized_validation_data=vectorizer(validation_data)\n",
        "vectorized_test_data=vectorizer(test_data)\n",
        "\n",
        "#model 1: ADAM and no Normalization\n",
        "model1 = keras.Sequential()\n",
        "# Add an Embedding layer expecting input of the vecotrized vocab\n",
        "model1.add(Embedding(input_dim=len(vectorizer.get_vocabulary()), output_dim=100, mask_zero=True))\n",
        "# Add a LSTM layer\n",
        "model1.add(LSTM(100,batch_size=50))\n",
        "# Add Dense layers\n",
        "model1.add(Dense(10, activation='relu'))\n",
        "model1.add(Dense(1, activation='sigmoid'))\n",
        "model1.summary()"
      ],
      "metadata": {
        "colab": {
          "base_uri": "https://localhost:8080/"
        },
        "id": "X93KNKjKVXF0",
        "outputId": "b99e1e3a-50dc-472e-c18b-e4de08a50ef3"
      },
      "execution_count": null,
      "outputs": [
        {
          "output_type": "stream",
          "name": "stdout",
          "text": [
            "Model: \"sequential_7\"\n",
            "_________________________________________________________________\n",
            " Layer (type)                Output Shape              Param #   \n",
            "=================================================================\n",
            " embedding_7 (Embedding)     (None, None, 100)         500000    \n",
            "                                                                 \n",
            " lstm_7 (LSTM)               (None, 100)               80400     \n",
            "                                                                 \n",
            " dense_12 (Dense)            (None, 10)                1010      \n",
            "                                                                 \n",
            " dense_13 (Dense)            (None, 1)                 11        \n",
            "                                                                 \n",
            "=================================================================\n",
            "Total params: 581,421\n",
            "Trainable params: 581,421\n",
            "Non-trainable params: 0\n",
            "_________________________________________________________________\n"
          ]
        }
      ]
    },
    {
      "cell_type": "code",
      "source": [
        "#model 2: ADAM and Batch Normalization\n",
        "model2 = keras.Sequential()\n",
        "# Add an Embedding layer expecting input of the vecotrized vocab\n",
        "model2.add(Embedding(input_dim=len(vectorizer.get_vocabulary()), output_dim=100, mask_zero=True))\n",
        "# Add a LSTM layer\n",
        "model2.add(LSTM(100,batch_size=50))\n",
        "model2.add(BatchNormalization())\n",
        "# Add Dense layers\n",
        "model2.add(Dense(10, activation='relu'))\n",
        "model2.add(BatchNormalization())\n",
        "model2.add(Dense(1, activation='sigmoid'))\n",
        "model2.summary()"
      ],
      "metadata": {
        "colab": {
          "base_uri": "https://localhost:8080/"
        },
        "id": "fZZN29RZ_yHr",
        "outputId": "a4bb1ce2-71a4-40c7-8695-9850ea4db8c6"
      },
      "execution_count": null,
      "outputs": [
        {
          "output_type": "stream",
          "name": "stdout",
          "text": [
            "Model: \"sequential_8\"\n",
            "_________________________________________________________________\n",
            " Layer (type)                Output Shape              Param #   \n",
            "=================================================================\n",
            " embedding_8 (Embedding)     (None, None, 100)         500000    \n",
            "                                                                 \n",
            " lstm_8 (LSTM)               (None, 100)               80400     \n",
            "                                                                 \n",
            " batch_normalization_4 (Batc  (None, 100)              400       \n",
            " hNormalization)                                                 \n",
            "                                                                 \n",
            " dense_14 (Dense)            (None, 10)                1010      \n",
            "                                                                 \n",
            " batch_normalization_5 (Batc  (None, 10)               40        \n",
            " hNormalization)                                                 \n",
            "                                                                 \n",
            " dense_15 (Dense)            (None, 1)                 11        \n",
            "                                                                 \n",
            "=================================================================\n",
            "Total params: 581,861\n",
            "Trainable params: 581,641\n",
            "Non-trainable params: 220\n",
            "_________________________________________________________________\n"
          ]
        }
      ]
    },
    {
      "cell_type": "code",
      "source": [
        "#model 3: ADAM and Dropout Normalization\n",
        "model3 = keras.Sequential()\n",
        "# Add an Embedding layer expecting input of the vecotrized vocab\n",
        "model3.add(Embedding(input_dim=len(vectorizer.get_vocabulary()), output_dim=100, mask_zero=True))\n",
        "# Add a LSTM layer\n",
        "model3.add(LSTM(100,batch_size=50))\n",
        "#Add dropout layer\n",
        "model3.add(Dropout(rate=0.5))\n",
        "# Add Dense layer\n",
        "model3.add(Dense(10, activation='relu'))\n",
        "#add dropout layer\n",
        "model3.add(Dropout(rate=0.5))\n",
        "# Add Dense layer\n",
        "model3.add(Dense(1, activation='sigmoid'))\n",
        "model3.summary()"
      ],
      "metadata": {
        "colab": {
          "base_uri": "https://localhost:8080/"
        },
        "id": "dK1MbuK0_xi-",
        "outputId": "f6b0cfb8-a3b8-4e52-ecea-7dbe930518aa"
      },
      "execution_count": null,
      "outputs": [
        {
          "output_type": "stream",
          "name": "stdout",
          "text": [
            "Model: \"sequential_9\"\n",
            "_________________________________________________________________\n",
            " Layer (type)                Output Shape              Param #   \n",
            "=================================================================\n",
            " embedding_9 (Embedding)     (None, None, 100)         500000    \n",
            "                                                                 \n",
            " lstm_9 (LSTM)               (None, 100)               80400     \n",
            "                                                                 \n",
            " dropout_2 (Dropout)         (None, 100)               0         \n",
            "                                                                 \n",
            " dense_16 (Dense)            (None, 10)                1010      \n",
            "                                                                 \n",
            " dropout_3 (Dropout)         (None, 10)                0         \n",
            "                                                                 \n",
            " dense_17 (Dense)            (None, 1)                 11        \n",
            "                                                                 \n",
            "=================================================================\n",
            "Total params: 581,421\n",
            "Trainable params: 581,421\n",
            "Non-trainable params: 0\n",
            "_________________________________________________________________\n"
          ]
        }
      ]
    },
    {
      "cell_type": "code",
      "source": [
        "#Compile the models\n",
        "model1.compile(loss='binary_crossentropy',\n",
        "              optimizer='adam',\n",
        "              metrics=['accuracy'])\n",
        "model2.compile(loss='binary_crossentropy',\n",
        "              optimizer='adam',\n",
        "              metrics=['accuracy'])\n",
        "model3.compile(loss='binary_crossentropy',\n",
        "              optimizer='adam',\n",
        "              metrics=['accuracy'])"
      ],
      "metadata": {
        "id": "xFQ7kSo4fq4Z"
      },
      "execution_count": null,
      "outputs": []
    },
    {
      "cell_type": "code",
      "source": [
        "#Train the model\n",
        "history1=model1.fit(vectorized_training_data, training_labels,\n",
        "                    validation_data=(vectorized_validation_data,validation_labels),\n",
        "                    epochs=10,\n",
        "                    verbose=0)\n",
        "history2=model2.fit(vectorized_training_data, training_labels,\n",
        "                    validation_data=(vectorized_validation_data,validation_labels),\n",
        "                    epochs=10,\n",
        "                    verbose=0)\n",
        "history3=model3.fit(vectorized_training_data, training_labels,\n",
        "                    validation_data=(vectorized_validation_data,validation_labels),\n",
        "                    epochs=10,\n",
        "                    verbose=0)"
      ],
      "metadata": {
        "id": "0KAuzQoDfs7p"
      },
      "execution_count": null,
      "outputs": []
    },
    {
      "cell_type": "code",
      "source": [
        "#Make Predictions on Test Datasets and export to CSV for kaggle submission\n",
        "m1_preds=np.round(model1.predict(vectorized_test_data)).ravel().tolist()\n",
        "id=test_df['id'].tolist()\n",
        "t1=m1_preds\n",
        "m1df=pd.DataFrame({'id':id,'target':t1}).astype(int)\n",
        "m1df.to_csv('no_normalization.csv', index=False)\n",
        "files.download('no_normalization.csv')\n",
        "\n",
        "m2_preds=np.round(model2.predict(vectorized_test_data)).ravel().tolist()\n",
        "t2=m2_preds\n",
        "m2df=pd.DataFrame({'id':id,'target':t2}).astype(int)\n",
        "m2df.to_csv('batch_normalization.csv', index=False)\n",
        "files.download('batch_normalization.csv')\n",
        "\n",
        "m3_preds=np.round(model3.predict(vectorized_test_data)).ravel().tolist()\n",
        "t3=m3_preds\n",
        "m3df=pd.DataFrame({'id':id,'target':t3}).astype(int)\n",
        "m3df.to_csv('dropout.csv', index=False)\n",
        "files.download('dropout.csv')\n"
      ],
      "metadata": {
        "colab": {
          "base_uri": "https://localhost:8080/",
          "height": 69
        },
        "id": "Qvntxvtgfzss",
        "outputId": "ec162a45-6762-4eda-966b-122ebf691ff4"
      },
      "execution_count": null,
      "outputs": [
        {
          "output_type": "stream",
          "name": "stdout",
          "text": [
            "102/102 [==============================] - 1s 3ms/step\n"
          ]
        },
        {
          "output_type": "display_data",
          "data": {
            "text/plain": [
              "<IPython.core.display.Javascript object>"
            ],
            "application/javascript": [
              "\n",
              "    async function download(id, filename, size) {\n",
              "      if (!google.colab.kernel.accessAllowed) {\n",
              "        return;\n",
              "      }\n",
              "      const div = document.createElement('div');\n",
              "      const label = document.createElement('label');\n",
              "      label.textContent = `Downloading \"${filename}\": `;\n",
              "      div.appendChild(label);\n",
              "      const progress = document.createElement('progress');\n",
              "      progress.max = size;\n",
              "      div.appendChild(progress);\n",
              "      document.body.appendChild(div);\n",
              "\n",
              "      const buffers = [];\n",
              "      let downloaded = 0;\n",
              "\n",
              "      const channel = await google.colab.kernel.comms.open(id);\n",
              "      // Send a message to notify the kernel that we're ready.\n",
              "      channel.send({})\n",
              "\n",
              "      for await (const message of channel.messages) {\n",
              "        // Send a message to notify the kernel that we're ready.\n",
              "        channel.send({})\n",
              "        if (message.buffers) {\n",
              "          for (const buffer of message.buffers) {\n",
              "            buffers.push(buffer);\n",
              "            downloaded += buffer.byteLength;\n",
              "            progress.value = downloaded;\n",
              "          }\n",
              "        }\n",
              "      }\n",
              "      const blob = new Blob(buffers, {type: 'application/binary'});\n",
              "      const a = document.createElement('a');\n",
              "      a.href = window.URL.createObjectURL(blob);\n",
              "      a.download = filename;\n",
              "      div.appendChild(a);\n",
              "      a.click();\n",
              "      div.remove();\n",
              "    }\n",
              "  "
            ]
          },
          "metadata": {}
        },
        {
          "output_type": "display_data",
          "data": {
            "text/plain": [
              "<IPython.core.display.Javascript object>"
            ],
            "application/javascript": [
              "download(\"download_54b32ad8-14be-4458-bc00-491eabee928d\", \"no_normalization.csv\", 22746)"
            ]
          },
          "metadata": {}
        },
        {
          "output_type": "stream",
          "name": "stdout",
          "text": [
            "102/102 [==============================] - 1s 3ms/step\n"
          ]
        },
        {
          "output_type": "display_data",
          "data": {
            "text/plain": [
              "<IPython.core.display.Javascript object>"
            ],
            "application/javascript": [
              "\n",
              "    async function download(id, filename, size) {\n",
              "      if (!google.colab.kernel.accessAllowed) {\n",
              "        return;\n",
              "      }\n",
              "      const div = document.createElement('div');\n",
              "      const label = document.createElement('label');\n",
              "      label.textContent = `Downloading \"${filename}\": `;\n",
              "      div.appendChild(label);\n",
              "      const progress = document.createElement('progress');\n",
              "      progress.max = size;\n",
              "      div.appendChild(progress);\n",
              "      document.body.appendChild(div);\n",
              "\n",
              "      const buffers = [];\n",
              "      let downloaded = 0;\n",
              "\n",
              "      const channel = await google.colab.kernel.comms.open(id);\n",
              "      // Send a message to notify the kernel that we're ready.\n",
              "      channel.send({})\n",
              "\n",
              "      for await (const message of channel.messages) {\n",
              "        // Send a message to notify the kernel that we're ready.\n",
              "        channel.send({})\n",
              "        if (message.buffers) {\n",
              "          for (const buffer of message.buffers) {\n",
              "            buffers.push(buffer);\n",
              "            downloaded += buffer.byteLength;\n",
              "            progress.value = downloaded;\n",
              "          }\n",
              "        }\n",
              "      }\n",
              "      const blob = new Blob(buffers, {type: 'application/binary'});\n",
              "      const a = document.createElement('a');\n",
              "      a.href = window.URL.createObjectURL(blob);\n",
              "      a.download = filename;\n",
              "      div.appendChild(a);\n",
              "      a.click();\n",
              "      div.remove();\n",
              "    }\n",
              "  "
            ]
          },
          "metadata": {}
        },
        {
          "output_type": "display_data",
          "data": {
            "text/plain": [
              "<IPython.core.display.Javascript object>"
            ],
            "application/javascript": [
              "download(\"download_d799fa6b-f80c-4703-9c83-c25a825bf795\", \"batch_normalization.csv\", 22746)"
            ]
          },
          "metadata": {}
        },
        {
          "output_type": "stream",
          "name": "stdout",
          "text": [
            "102/102 [==============================] - 1s 3ms/step\n"
          ]
        },
        {
          "output_type": "display_data",
          "data": {
            "text/plain": [
              "<IPython.core.display.Javascript object>"
            ],
            "application/javascript": [
              "\n",
              "    async function download(id, filename, size) {\n",
              "      if (!google.colab.kernel.accessAllowed) {\n",
              "        return;\n",
              "      }\n",
              "      const div = document.createElement('div');\n",
              "      const label = document.createElement('label');\n",
              "      label.textContent = `Downloading \"${filename}\": `;\n",
              "      div.appendChild(label);\n",
              "      const progress = document.createElement('progress');\n",
              "      progress.max = size;\n",
              "      div.appendChild(progress);\n",
              "      document.body.appendChild(div);\n",
              "\n",
              "      const buffers = [];\n",
              "      let downloaded = 0;\n",
              "\n",
              "      const channel = await google.colab.kernel.comms.open(id);\n",
              "      // Send a message to notify the kernel that we're ready.\n",
              "      channel.send({})\n",
              "\n",
              "      for await (const message of channel.messages) {\n",
              "        // Send a message to notify the kernel that we're ready.\n",
              "        channel.send({})\n",
              "        if (message.buffers) {\n",
              "          for (const buffer of message.buffers) {\n",
              "            buffers.push(buffer);\n",
              "            downloaded += buffer.byteLength;\n",
              "            progress.value = downloaded;\n",
              "          }\n",
              "        }\n",
              "      }\n",
              "      const blob = new Blob(buffers, {type: 'application/binary'});\n",
              "      const a = document.createElement('a');\n",
              "      a.href = window.URL.createObjectURL(blob);\n",
              "      a.download = filename;\n",
              "      div.appendChild(a);\n",
              "      a.click();\n",
              "      div.remove();\n",
              "    }\n",
              "  "
            ]
          },
          "metadata": {}
        },
        {
          "output_type": "display_data",
          "data": {
            "text/plain": [
              "<IPython.core.display.Javascript object>"
            ],
            "application/javascript": [
              "download(\"download_3cb97de8-f231-419e-8b3c-f76d02ff2fc3\", \"dropout.csv\", 22746)"
            ]
          },
          "metadata": {}
        }
      ]
    },
    {
      "cell_type": "markdown",
      "source": [
        "## Results and Analysis\n",
        "Let's see how each model performed on the training and validation data"
      ],
      "metadata": {
        "id": "hJiQb6V0VYYZ"
      }
    },
    {
      "cell_type": "code",
      "source": [
        "#Accuracy Plot\n",
        "fig, (ax1, ax2, ax3) = plt.subplots(1, 3, sharex=True, sharey=True)\n",
        "ax1.plot(history1.history['accuracy'])\n",
        "ax1.plot(history1.history['val_accuracy'])\n",
        "ax1.set_title('No Normalization')\n",
        "\n",
        "ax2.plot(history2.history['accuracy'])\n",
        "ax2.plot(history2.history['val_accuracy'])\n",
        "ax2.set_title('Batch')\n",
        "\n",
        "ax3.plot(history3.history['accuracy'])\n",
        "ax3.plot(history3.history['val_accuracy'])\n",
        "ax3.set_title('Dropout')\n",
        "\n",
        "ax2.set_xlabel('Epoch')\n",
        "ax1.set_ylabel('Accuracy')\n",
        "fig.legend(['accuracy','val_accuracy'], loc='center right',)"
      ],
      "metadata": {
        "colab": {
          "base_uri": "https://localhost:8080/",
          "height": 489
        },
        "id": "UypUvGRP0A9c",
        "outputId": "3d160fe8-398b-4b00-b55c-3d119be6fc72"
      },
      "execution_count": null,
      "outputs": [
        {
          "output_type": "execute_result",
          "data": {
            "text/plain": [
              "<matplotlib.legend.Legend at 0x7c7f9845b700>"
            ]
          },
          "metadata": {},
          "execution_count": 33
        },
        {
          "output_type": "display_data",
          "data": {
            "text/plain": [
              "<Figure size 640x480 with 3 Axes>"
            ],
            "image/png": "[encoded data removed]"
          },
          "metadata": {}
        }
      ]
    },
    {
      "cell_type": "markdown",
      "source": [
        "These are the results of the test dataset that were submitted to Kaggle. Note, this score represents the F1 score, not the accuracy\n",
        "![LSTM Results.png](data:image/png;base64,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)\n"
      ],
      "metadata": {
        "id": "Q3IOP3qfOlK6"
      }
    },
    {
      "cell_type": "markdown",
      "source": [
        "For this dataset batch normalization appear to slightly mitigate overfitting at higher epochs while the effects of dropout on overfitting are less clear. It appears models at lesser epochs achieve the same, or better, validation accuracy than models at larger epochs. Training accuracy appears to level out around the 5th epoch.\n",
        "\n",
        "The highest validation accuracy was 80.2% and was achieved by the model without normalization at the 1st epoch.\n",
        "\n",
        "The model with the lowest validation accuracy 63.8% and was achieved by the batch normalization model at the second epoch.\n",
        "\n",
        "The model with the highest accuracy was 97.2% (epoch 10 of the model without regularization) but significant overfitting was present.\n",
        "\n",
        "The batch normalization model yielded the highest F1 score, 74.6%, on the kaggle test dataset."
      ],
      "metadata": {
        "id": "nmuMeet9OGlV"
      }
    },
    {
      "cell_type": "markdown",
      "source": [
        "##Conclusions\n",
        "In conclusion, it appears RNN, specifically LSTM, can be used effectively to predict text with predefined classes. However, there is still room for improvement. This is the first deep learning project I have worked on, but I suspect the archtechture needs to be revisited as it seems unusual for training accuracy of the 1st epoch to be the highest as this would imply every subsequent model was overfitting.\n",
        "\n",
        "If I were to work on the project further, I would tune different optimization methods in addition to the regularization method. I might also test a different architechture like a gated recurrent unit (GRU)."
      ],
      "metadata": {
        "id": "AY_CnBwiVgdA"
      }
    },
    {
      "cell_type": "markdown",
      "source": [
        "###Sources\n",
        "https://www.kaggle.com/code/philculliton/nlp-getting-started-tutorial/notebook\n",
        "\n",
        "https://www.atmosera.com/blog/text-classification-with-neural-networks/\n",
        "\n",
        "https://keras.io/getting_started/intro_to_keras_for_engineers/\n",
        "\n",
        "https://www.tensorflow.org/text/tutorials/text_classification_rnn"
      ],
      "metadata": {
        "id": "Jy6EqdW7VjRM"
      }
    },
    {
      "cell_type": "code",
      "source": [],
      "metadata": {
        "id": "TOh6OPy3z2Px"
      },
      "execution_count": null,
      "outputs": []
    }
  ]
}